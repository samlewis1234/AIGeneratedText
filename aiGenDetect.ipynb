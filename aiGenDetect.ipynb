{
 "cells": [
  {
   "cell_type": "code",
   "execution_count": 6,
   "id": "ab05e468-dcd0-44c1-a8bd-549e417f2e92",
   "metadata": {},
   "outputs": [],
   "source": [
    "# AI-generated text recognition - test playground"
   ]
  },
  {
   "cell_type": "code",
   "execution_count": 17,
   "id": "13049b94-337b-489c-9399-307561465c81",
   "metadata": {},
   "outputs": [],
   "source": [
    "# import libraries\n",
    "import tensorflow as tf\n",
    "import numpy as np\n",
    "import matplotlib.pyplot as plt\n",
    "import pandas as pd\n",
    "import re\n",
    "import time\n"
   ]
  },
  {
   "cell_type": "code",
   "execution_count": 3,
   "id": "babc45a1-833b-4568-a5af-402ff4cb7ce5",
   "metadata": {},
   "outputs": [],
   "source": [
    "# first we will experiment with some fully unassisted learning"
   ]
  },
  {
   "cell_type": "code",
   "execution_count": 18,
   "id": "5edc0151-6d3e-4b3c-b808-a27b66b1ddeb",
   "metadata": {},
   "outputs": [
    {
     "data": {
      "text/html": [
       "<div>\n",
       "<style scoped>\n",
       "    .dataframe tbody tr th:only-of-type {\n",
       "        vertical-align: middle;\n",
       "    }\n",
       "\n",
       "    .dataframe tbody tr th {\n",
       "        vertical-align: top;\n",
       "    }\n",
       "\n",
       "    .dataframe thead th {\n",
       "        text-align: right;\n",
       "    }\n",
       "</style>\n",
       "<table border=\"1\" class=\"dataframe\">\n",
       "  <thead>\n",
       "    <tr style=\"text-align: right;\">\n",
       "      <th></th>\n",
       "      <th>text</th>\n",
       "      <th>label</th>\n",
       "      <th>prompt_name</th>\n",
       "      <th>source</th>\n",
       "      <th>RDizzl3_seven</th>\n",
       "    </tr>\n",
       "  </thead>\n",
       "  <tbody>\n",
       "    <tr>\n",
       "      <th>0</th>\n",
       "      <td>Phones\\n\\nModern humans today are always on th...</td>\n",
       "      <td>0</td>\n",
       "      <td>Phones and driving</td>\n",
       "      <td>persuade_corpus</td>\n",
       "      <td>False</td>\n",
       "    </tr>\n",
       "    <tr>\n",
       "      <th>1</th>\n",
       "      <td>This essay will explain if drivers should or s...</td>\n",
       "      <td>0</td>\n",
       "      <td>Phones and driving</td>\n",
       "      <td>persuade_corpus</td>\n",
       "      <td>False</td>\n",
       "    </tr>\n",
       "    <tr>\n",
       "      <th>2</th>\n",
       "      <td>Driving while the use of cellular devices\\n\\nT...</td>\n",
       "      <td>0</td>\n",
       "      <td>Phones and driving</td>\n",
       "      <td>persuade_corpus</td>\n",
       "      <td>False</td>\n",
       "    </tr>\n",
       "    <tr>\n",
       "      <th>3</th>\n",
       "      <td>Phones &amp; Driving\\n\\nDrivers should not be able...</td>\n",
       "      <td>0</td>\n",
       "      <td>Phones and driving</td>\n",
       "      <td>persuade_corpus</td>\n",
       "      <td>False</td>\n",
       "    </tr>\n",
       "    <tr>\n",
       "      <th>4</th>\n",
       "      <td>Cell Phone Operation While Driving\\n\\nThe abil...</td>\n",
       "      <td>0</td>\n",
       "      <td>Phones and driving</td>\n",
       "      <td>persuade_corpus</td>\n",
       "      <td>False</td>\n",
       "    </tr>\n",
       "  </tbody>\n",
       "</table>\n",
       "</div>"
      ],
      "text/plain": [
       "                                                text  label  \\\n",
       "0  Phones\\n\\nModern humans today are always on th...      0   \n",
       "1  This essay will explain if drivers should or s...      0   \n",
       "2  Driving while the use of cellular devices\\n\\nT...      0   \n",
       "3  Phones & Driving\\n\\nDrivers should not be able...      0   \n",
       "4  Cell Phone Operation While Driving\\n\\nThe abil...      0   \n",
       "\n",
       "          prompt_name           source  RDizzl3_seven  \n",
       "0  Phones and driving  persuade_corpus          False  \n",
       "1  Phones and driving  persuade_corpus          False  \n",
       "2  Phones and driving  persuade_corpus          False  \n",
       "3  Phones and driving  persuade_corpus          False  \n",
       "4  Phones and driving  persuade_corpus          False  "
      ]
     },
     "execution_count": 18,
     "metadata": {},
     "output_type": "execute_result"
    }
   ],
   "source": [
    "dataset = pd.read_csv('/Users/samlewis/Desktop/mlDatasets/train_v2_drcat_02.csv')\n",
    "dataset.head()"
   ]
  },
  {
   "cell_type": "code",
   "execution_count": 19,
   "id": "e509239c-9902-4eed-9a52-16378a3bdb02",
   "metadata": {},
   "outputs": [],
   "source": [
    "# for reproducability\n",
    "def seed_everything(seed=100):\n",
    "    import random\n",
    "    random.seed(seed)\n",
    "    np.random.seed(seed)\n",
    "\n",
    "seed_everything()"
   ]
  },
  {
   "cell_type": "code",
   "execution_count": 20,
   "id": "b4814b78-55a9-4f64-9154-653324a1b633",
   "metadata": {},
   "outputs": [],
   "source": [
    "# some preprocessing"
   ]
  },
  {
   "cell_type": "code",
   "execution_count": 21,
   "id": "67d8da6c-2d1c-470b-95cc-ac708acf9243",
   "metadata": {},
   "outputs": [],
   "source": [
    "def remove_punctuations(Df):\n",
    "    punct_tag=re.compile(r'[^\\w\\s]')\n",
    "    data=punct_tag.sub(r'',Df)\n",
    "    return data\n",
    "dataset['text']=dataset['text'].apply(lambda z: remove_punctuations(z))"
   ]
  },
  {
   "cell_type": "code",
   "execution_count": 22,
   "id": "706a3d09-6f28-43d4-8138-cd7da258c3bc",
   "metadata": {},
   "outputs": [],
   "source": [
    "def remove_html(Df):\n",
    "    html_tag=re.compile(r'<.*?>')\n",
    "    data=html_tag.sub(r'',Df)\n",
    "    return data\n",
    "dataset['text']=dataset['text'].apply(lambda z: remove_html(z))"
   ]
  },
  {
   "cell_type": "code",
   "execution_count": 23,
   "id": "1962ca7e-5ded-492d-97e0-58f1c5efc6ef",
   "metadata": {},
   "outputs": [],
   "source": [
    "def remove_url(Df):\n",
    "    url_clean= re.compile(r\"https://\\S+|www\\.\\S+\")\n",
    "    data=url_clean.sub(r'',Df)\n",
    "    return data\n",
    "dataset['text']=dataset['text'].apply(lambda z: remove_url(z))"
   ]
  },
  {
   "cell_type": "code",
   "execution_count": 24,
   "id": "be04f808-8d40-470e-aef5-ebac09354d4b",
   "metadata": {},
   "outputs": [],
   "source": [
    "def remove_emoji(Df):\n",
    "    emoji_clean= re.compile(\"[\"\n",
    "                           u\"\\U0001F600-\\U0001F64F\"  # emoticons\n",
    "                           u\"\\U0001F300-\\U0001F5FF\"  # symbols & pictographs\n",
    "                           u\"\\U0001F680-\\U0001F6FF\"  # transport & map symbols\n",
    "                           u\"\\U0001F1E0-\\U0001F1FF\"  # flags (iOS)\n",
    "                           u\"\\U00002702-\\U000027B0\"\n",
    "                           u\"\\U000024C2-\\U0001F251\"\n",
    "                           \"]+\", flags=re.UNICODE)\n",
    "    data=emoji_clean.sub(r'',Df)\n",
    "    url_clean= re.compile(r\"https://\\S+|www\\.\\S+\")\n",
    "    data=url_clean.sub(r'',Df)\n",
    "    return data\n",
    "dataset['text']=dataset['text'].apply(lambda z: remove_emoji(z))"
   ]
  },
  {
   "cell_type": "code",
   "execution_count": 9,
   "id": "c95d5f08-4e3a-4157-be78-00e631cddf0d",
   "metadata": {},
   "outputs": [],
   "source": [
    "# 75/25 train/test split"
   ]
  },
  {
   "cell_type": "code",
   "execution_count": 25,
   "id": "ea4cd803-28d2-41f8-aa6d-0591022de130",
   "metadata": {},
   "outputs": [],
   "source": [
    "# X = dataset[[\"text\",\"punCount\"]]\n",
    "X = dataset[\"text\"]\n",
    "y = dataset[\"source\"]\n",
    "y = (y != 'persuade_corpus')\n",
    "\n",
    "from sklearn.model_selection import train_test_split \n",
    "X_train, X_test, y_train, y_test = train_test_split(X, y, train_size=0.75, random_state=100)"
   ]
  },
  {
   "cell_type": "code",
   "execution_count": 26,
   "id": "2cbc02fa-fe7f-44ef-a463-36420f34144a",
   "metadata": {},
   "outputs": [],
   "source": [
    "# various versions of our TD-IDF vectorizer\n",
    "from sklearn.feature_extraction.text import TfidfVectorizer\n"
   ]
  },
  {
   "cell_type": "code",
   "execution_count": 30,
   "id": "2915dbb6-0365-4367-9c60-dbe8b2419002",
   "metadata": {},
   "outputs": [],
   "source": [
    "# 2-4 ngrams\n",
    "vectorizer = TfidfVectorizer(ngram_range=(2, 4),tokenizer=lambda x: re.findall(r'[^\\W]+', x),token_pattern=None,strip_accents='unicode',)\n",
    "vectorizer = vectorizer.fit(X_test)\n",
    "test_x = vectorizer.fit_transform(X_test)\n",
    "train_x = vectorizer.transform(X_train)\n"
   ]
  },
  {
   "cell_type": "code",
   "execution_count": 14,
   "id": "05206980-57e3-4bb7-90f1-a719a7723cf8",
   "metadata": {},
   "outputs": [],
   "source": [
    "# 3-5 ngrams\n",
    "vectorizer = TfidfVectorizer(ngram_range=(3, 5),tokenizer=lambda x: re.findall(r'[^\\W]+', x),token_pattern=None,strip_accents='unicode',)\n",
    "vectorizer = vectorizer.fit(X_test)\n",
    "test_x = vectorizer.fit_transform(X_test)\n",
    "train_x = vectorizer.transform(X_train)\n",
    "\n"
   ]
  },
  {
   "cell_type": "code",
   "execution_count": 10,
   "id": "f2f6c9e1-df55-4b3f-88ba-89443ee0f091",
   "metadata": {},
   "outputs": [],
   "source": [
    "# 1-3 ngrams, TF only\n",
    "vectorizer = TfidfVectorizer(ngram_range=(1, 3),tokenizer=lambda x: re.findall(r'[^\\W]+', x),token_pattern=None,strip_accents='unicode',use_idf=False)\n",
    "vectorizer = vectorizer.fit(X_test)\n",
    "test_x = vectorizer.fit_transform(X_test)\n",
    "train_x = vectorizer.transform(X_train)\n"
   ]
  },
  {
   "cell_type": "code",
   "execution_count": 12,
   "id": "bf9cd99e-e080-4a08-a64e-314fc9cb2421",
   "metadata": {},
   "outputs": [],
   "source": [
    "# 1-3 ngrams - this is the chosen vectorizer \n",
    "vectorizer = TfidfVectorizer(ngram_range=(1, 3),tokenizer=lambda x: re.findall(r'[^\\W]+', x),token_pattern=None,strip_accents='unicode')\n",
    "vectorizer = vectorizer.fit(X_test)\n",
    "test_x = vectorizer.fit_transform(X_test)\n",
    "train_x = vectorizer.transform(X_train)\n"
   ]
  },
  {
   "cell_type": "code",
   "execution_count": 11,
   "id": "441db22c-bd2b-4bb6-916f-da9933486f46",
   "metadata": {},
   "outputs": [],
   "source": [
    "# CountVectorizer with Multinomial Native-Bayes classification, used in the following two models before returning\n",
    "# to the TfidfVectorizer with a SVM classifier.\n",
    "\n",
    "import warnings\n",
    "warnings.filterwarnings('ignore')\n",
    "from sklearn.pipeline import Pipeline\n",
    "from sklearn.naive_bayes import MultinomialNB\n",
    "from sklearn.feature_extraction.text import TfidfTransformer\n",
    "from sklearn.feature_extraction.text import CountVectorizer\n",
    "\n",
    "text_clf = Pipeline([\n",
    "        ('vect', CountVectorizer()),\n",
    "        ('tfidf', TfidfTransformer()),\n",
    "        ('clf', MultinomialNB()),\n",
    "])"
   ]
  },
  {
   "cell_type": "code",
   "execution_count": 12,
   "id": "0479d830-6de3-477e-80e2-be09225ca717",
   "metadata": {},
   "outputs": [
    {
     "data": {
      "text/html": [
       "<style>#sk-container-id-1 {color: black;background-color: white;}#sk-container-id-1 pre{padding: 0;}#sk-container-id-1 div.sk-toggleable {background-color: white;}#sk-container-id-1 label.sk-toggleable__label {cursor: pointer;display: block;width: 100%;margin-bottom: 0;padding: 0.3em;box-sizing: border-box;text-align: center;}#sk-container-id-1 label.sk-toggleable__label-arrow:before {content: \"▸\";float: left;margin-right: 0.25em;color: #696969;}#sk-container-id-1 label.sk-toggleable__label-arrow:hover:before {color: black;}#sk-container-id-1 div.sk-estimator:hover label.sk-toggleable__label-arrow:before {color: black;}#sk-container-id-1 div.sk-toggleable__content {max-height: 0;max-width: 0;overflow: hidden;text-align: left;background-color: #f0f8ff;}#sk-container-id-1 div.sk-toggleable__content pre {margin: 0.2em;color: black;border-radius: 0.25em;background-color: #f0f8ff;}#sk-container-id-1 input.sk-toggleable__control:checked~div.sk-toggleable__content {max-height: 200px;max-width: 100%;overflow: auto;}#sk-container-id-1 input.sk-toggleable__control:checked~label.sk-toggleable__label-arrow:before {content: \"▾\";}#sk-container-id-1 div.sk-estimator input.sk-toggleable__control:checked~label.sk-toggleable__label {background-color: #d4ebff;}#sk-container-id-1 div.sk-label input.sk-toggleable__control:checked~label.sk-toggleable__label {background-color: #d4ebff;}#sk-container-id-1 input.sk-hidden--visually {border: 0;clip: rect(1px 1px 1px 1px);clip: rect(1px, 1px, 1px, 1px);height: 1px;margin: -1px;overflow: hidden;padding: 0;position: absolute;width: 1px;}#sk-container-id-1 div.sk-estimator {font-family: monospace;background-color: #f0f8ff;border: 1px dotted black;border-radius: 0.25em;box-sizing: border-box;margin-bottom: 0.5em;}#sk-container-id-1 div.sk-estimator:hover {background-color: #d4ebff;}#sk-container-id-1 div.sk-parallel-item::after {content: \"\";width: 100%;border-bottom: 1px solid gray;flex-grow: 1;}#sk-container-id-1 div.sk-label:hover label.sk-toggleable__label {background-color: #d4ebff;}#sk-container-id-1 div.sk-serial::before {content: \"\";position: absolute;border-left: 1px solid gray;box-sizing: border-box;top: 0;bottom: 0;left: 50%;z-index: 0;}#sk-container-id-1 div.sk-serial {display: flex;flex-direction: column;align-items: center;background-color: white;padding-right: 0.2em;padding-left: 0.2em;position: relative;}#sk-container-id-1 div.sk-item {position: relative;z-index: 1;}#sk-container-id-1 div.sk-parallel {display: flex;align-items: stretch;justify-content: center;background-color: white;position: relative;}#sk-container-id-1 div.sk-item::before, #sk-container-id-1 div.sk-parallel-item::before {content: \"\";position: absolute;border-left: 1px solid gray;box-sizing: border-box;top: 0;bottom: 0;left: 50%;z-index: -1;}#sk-container-id-1 div.sk-parallel-item {display: flex;flex-direction: column;z-index: 1;position: relative;background-color: white;}#sk-container-id-1 div.sk-parallel-item:first-child::after {align-self: flex-end;width: 50%;}#sk-container-id-1 div.sk-parallel-item:last-child::after {align-self: flex-start;width: 50%;}#sk-container-id-1 div.sk-parallel-item:only-child::after {width: 0;}#sk-container-id-1 div.sk-dashed-wrapped {border: 1px dashed gray;margin: 0 0.4em 0.5em 0.4em;box-sizing: border-box;padding-bottom: 0.4em;background-color: white;}#sk-container-id-1 div.sk-label label {font-family: monospace;font-weight: bold;display: inline-block;line-height: 1.2em;}#sk-container-id-1 div.sk-label-container {text-align: center;}#sk-container-id-1 div.sk-container {/* jupyter's `normalize.less` sets `[hidden] { display: none; }` but bootstrap.min.css set `[hidden] { display: none !important; }` so we also need the `!important` here to be able to override the default hidden behavior on the sphinx rendered scikit-learn.org. See: https://github.com/scikit-learn/scikit-learn/issues/21755 */display: inline-block !important;position: relative;}#sk-container-id-1 div.sk-text-repr-fallback {display: none;}</style><div id=\"sk-container-id-1\" class=\"sk-top-container\"><div class=\"sk-text-repr-fallback\"><pre>Pipeline(steps=[(&#x27;vect&#x27;, CountVectorizer()), (&#x27;tfidf&#x27;, TfidfTransformer()),\n",
       "                (&#x27;clf&#x27;, MultinomialNB())])</pre><b>In a Jupyter environment, please rerun this cell to show the HTML representation or trust the notebook. <br />On GitHub, the HTML representation is unable to render, please try loading this page with nbviewer.org.</b></div><div class=\"sk-container\" hidden><div class=\"sk-item sk-dashed-wrapped\"><div class=\"sk-label-container\"><div class=\"sk-label sk-toggleable\"><input class=\"sk-toggleable__control sk-hidden--visually\" id=\"sk-estimator-id-1\" type=\"checkbox\" ><label for=\"sk-estimator-id-1\" class=\"sk-toggleable__label sk-toggleable__label-arrow\">Pipeline</label><div class=\"sk-toggleable__content\"><pre>Pipeline(steps=[(&#x27;vect&#x27;, CountVectorizer()), (&#x27;tfidf&#x27;, TfidfTransformer()),\n",
       "                (&#x27;clf&#x27;, MultinomialNB())])</pre></div></div></div><div class=\"sk-serial\"><div class=\"sk-item\"><div class=\"sk-estimator sk-toggleable\"><input class=\"sk-toggleable__control sk-hidden--visually\" id=\"sk-estimator-id-2\" type=\"checkbox\" ><label for=\"sk-estimator-id-2\" class=\"sk-toggleable__label sk-toggleable__label-arrow\">CountVectorizer</label><div class=\"sk-toggleable__content\"><pre>CountVectorizer()</pre></div></div></div><div class=\"sk-item\"><div class=\"sk-estimator sk-toggleable\"><input class=\"sk-toggleable__control sk-hidden--visually\" id=\"sk-estimator-id-3\" type=\"checkbox\" ><label for=\"sk-estimator-id-3\" class=\"sk-toggleable__label sk-toggleable__label-arrow\">TfidfTransformer</label><div class=\"sk-toggleable__content\"><pre>TfidfTransformer()</pre></div></div></div><div class=\"sk-item\"><div class=\"sk-estimator sk-toggleable\"><input class=\"sk-toggleable__control sk-hidden--visually\" id=\"sk-estimator-id-4\" type=\"checkbox\" ><label for=\"sk-estimator-id-4\" class=\"sk-toggleable__label sk-toggleable__label-arrow\">MultinomialNB</label><div class=\"sk-toggleable__content\"><pre>MultinomialNB()</pre></div></div></div></div></div></div></div>"
      ],
      "text/plain": [
       "Pipeline(steps=[('vect', CountVectorizer()), ('tfidf', TfidfTransformer()),\n",
       "                ('clf', MultinomialNB())])"
      ]
     },
     "execution_count": 12,
     "metadata": {},
     "output_type": "execute_result"
    }
   ],
   "source": [
    "text_clf.fit(X_train,y_train)"
   ]
  },
  {
   "cell_type": "code",
   "execution_count": 13,
   "id": "d269a26c-b281-4098-87bb-1352d6757279",
   "metadata": {},
   "outputs": [],
   "source": [
    "y_pred = text_clf.predict(X_test)"
   ]
  },
  {
   "cell_type": "code",
   "execution_count": 14,
   "id": "7adb2849-bc5f-4244-a050-3c9f4025948a",
   "metadata": {},
   "outputs": [
    {
     "name": "stdout",
     "output_type": "stream",
     "text": [
      "              precision    recall  f1-score   support\n",
      "\n",
      "       False       0.85      0.99      0.92     20716\n",
      "        True       0.99      0.76      0.86     15179\n",
      "\n",
      "    accuracy                           0.90     35895\n",
      "   macro avg       0.92      0.88      0.89     35895\n",
      "weighted avg       0.91      0.90      0.89     35895\n",
      "\n"
     ]
    }
   ],
   "source": [
    "from sklearn.metrics import confusion_matrix, classification_report\n",
    "print(classification_report(y_test, y_pred))"
   ]
  },
  {
   "cell_type": "code",
   "execution_count": 26,
   "id": "c778e818-92be-4435-976e-f4ce2416f7e7",
   "metadata": {},
   "outputs": [],
   "source": [
    "# the above classification report comes from the CountVectorizer/TfidfTransformer/MultinomialNB model using the default unigrams"
   ]
  },
  {
   "cell_type": "code",
   "execution_count": 14,
   "id": "5b0bf53c-969c-47b3-b83e-3fe9ea9225e0",
   "metadata": {},
   "outputs": [],
   "source": [
    "from sklearn.metrics import confusion_matrix, classification_report, roc_curve, auc"
   ]
  },
  {
   "cell_type": "code",
   "execution_count": 22,
   "id": "2ff65d91-86b2-49bd-93f7-07b861dd70d9",
   "metadata": {},
   "outputs": [
    {
     "name": "stdout",
     "output_type": "stream",
     "text": [
      "              precision    recall  f1-score   support\n",
      "\n",
      "       False       0.90      0.98      0.94     20716\n",
      "        True       0.97      0.85      0.90     15179\n",
      "\n",
      "    accuracy                           0.92     35895\n",
      "   macro avg       0.93      0.91      0.92     35895\n",
      "weighted avg       0.93      0.92      0.92     35895\n",
      "\n"
     ]
    }
   ],
   "source": [
    "# CountVectorizer/TfidfTransformer/MultinomialNB, 3-5 ngrams\n",
    "print(classification_report(y_test, y_pred))"
   ]
  },
  {
   "cell_type": "code",
   "execution_count": 19,
   "id": "436ebcaf-b3ab-42ac-8841-56cbe3d29f2a",
   "metadata": {},
   "outputs": [],
   "source": [
    "# I then decided to experiement with a Support Vector Machine and the TfidfVectorizer instead "
   ]
  },
  {
   "cell_type": "code",
   "execution_count": 15,
   "id": "db14c416-ada1-49d9-9fe6-9dc49a0365d3",
   "metadata": {},
   "outputs": [],
   "source": [
    "from sklearn.svm import SVC"
   ]
  },
  {
   "cell_type": "code",
   "execution_count": 15,
   "id": "240e4c8d-8db2-4bc6-b7b9-e1f62bb40b1b",
   "metadata": {},
   "outputs": [
    {
     "data": {
      "text/html": [
       "<style>#sk-container-id-2 {color: black;background-color: white;}#sk-container-id-2 pre{padding: 0;}#sk-container-id-2 div.sk-toggleable {background-color: white;}#sk-container-id-2 label.sk-toggleable__label {cursor: pointer;display: block;width: 100%;margin-bottom: 0;padding: 0.3em;box-sizing: border-box;text-align: center;}#sk-container-id-2 label.sk-toggleable__label-arrow:before {content: \"▸\";float: left;margin-right: 0.25em;color: #696969;}#sk-container-id-2 label.sk-toggleable__label-arrow:hover:before {color: black;}#sk-container-id-2 div.sk-estimator:hover label.sk-toggleable__label-arrow:before {color: black;}#sk-container-id-2 div.sk-toggleable__content {max-height: 0;max-width: 0;overflow: hidden;text-align: left;background-color: #f0f8ff;}#sk-container-id-2 div.sk-toggleable__content pre {margin: 0.2em;color: black;border-radius: 0.25em;background-color: #f0f8ff;}#sk-container-id-2 input.sk-toggleable__control:checked~div.sk-toggleable__content {max-height: 200px;max-width: 100%;overflow: auto;}#sk-container-id-2 input.sk-toggleable__control:checked~label.sk-toggleable__label-arrow:before {content: \"▾\";}#sk-container-id-2 div.sk-estimator input.sk-toggleable__control:checked~label.sk-toggleable__label {background-color: #d4ebff;}#sk-container-id-2 div.sk-label input.sk-toggleable__control:checked~label.sk-toggleable__label {background-color: #d4ebff;}#sk-container-id-2 input.sk-hidden--visually {border: 0;clip: rect(1px 1px 1px 1px);clip: rect(1px, 1px, 1px, 1px);height: 1px;margin: -1px;overflow: hidden;padding: 0;position: absolute;width: 1px;}#sk-container-id-2 div.sk-estimator {font-family: monospace;background-color: #f0f8ff;border: 1px dotted black;border-radius: 0.25em;box-sizing: border-box;margin-bottom: 0.5em;}#sk-container-id-2 div.sk-estimator:hover {background-color: #d4ebff;}#sk-container-id-2 div.sk-parallel-item::after {content: \"\";width: 100%;border-bottom: 1px solid gray;flex-grow: 1;}#sk-container-id-2 div.sk-label:hover label.sk-toggleable__label {background-color: #d4ebff;}#sk-container-id-2 div.sk-serial::before {content: \"\";position: absolute;border-left: 1px solid gray;box-sizing: border-box;top: 0;bottom: 0;left: 50%;z-index: 0;}#sk-container-id-2 div.sk-serial {display: flex;flex-direction: column;align-items: center;background-color: white;padding-right: 0.2em;padding-left: 0.2em;position: relative;}#sk-container-id-2 div.sk-item {position: relative;z-index: 1;}#sk-container-id-2 div.sk-parallel {display: flex;align-items: stretch;justify-content: center;background-color: white;position: relative;}#sk-container-id-2 div.sk-item::before, #sk-container-id-2 div.sk-parallel-item::before {content: \"\";position: absolute;border-left: 1px solid gray;box-sizing: border-box;top: 0;bottom: 0;left: 50%;z-index: -1;}#sk-container-id-2 div.sk-parallel-item {display: flex;flex-direction: column;z-index: 1;position: relative;background-color: white;}#sk-container-id-2 div.sk-parallel-item:first-child::after {align-self: flex-end;width: 50%;}#sk-container-id-2 div.sk-parallel-item:last-child::after {align-self: flex-start;width: 50%;}#sk-container-id-2 div.sk-parallel-item:only-child::after {width: 0;}#sk-container-id-2 div.sk-dashed-wrapped {border: 1px dashed gray;margin: 0 0.4em 0.5em 0.4em;box-sizing: border-box;padding-bottom: 0.4em;background-color: white;}#sk-container-id-2 div.sk-label label {font-family: monospace;font-weight: bold;display: inline-block;line-height: 1.2em;}#sk-container-id-2 div.sk-label-container {text-align: center;}#sk-container-id-2 div.sk-container {/* jupyter's `normalize.less` sets `[hidden] { display: none; }` but bootstrap.min.css set `[hidden] { display: none !important; }` so we also need the `!important` here to be able to override the default hidden behavior on the sphinx rendered scikit-learn.org. See: https://github.com/scikit-learn/scikit-learn/issues/21755 */display: inline-block !important;position: relative;}#sk-container-id-2 div.sk-text-repr-fallback {display: none;}</style><div id=\"sk-container-id-2\" class=\"sk-top-container\"><div class=\"sk-text-repr-fallback\"><pre>SVC(class_weight=&#x27;balanced&#x27;, kernel=&#x27;linear&#x27;)</pre><b>In a Jupyter environment, please rerun this cell to show the HTML representation or trust the notebook. <br />On GitHub, the HTML representation is unable to render, please try loading this page with nbviewer.org.</b></div><div class=\"sk-container\" hidden><div class=\"sk-item\"><div class=\"sk-estimator sk-toggleable\"><input class=\"sk-toggleable__control sk-hidden--visually\" id=\"sk-estimator-id-5\" type=\"checkbox\" checked><label for=\"sk-estimator-id-5\" class=\"sk-toggleable__label sk-toggleable__label-arrow\">SVC</label><div class=\"sk-toggleable__content\"><pre>SVC(class_weight=&#x27;balanced&#x27;, kernel=&#x27;linear&#x27;)</pre></div></div></div></div></div>"
      ],
      "text/plain": [
       "SVC(class_weight='balanced', kernel='linear')"
      ]
     },
     "execution_count": 15,
     "metadata": {},
     "output_type": "execute_result"
    }
   ],
   "source": [
    "svm_classifier = SVC(kernel='linear', class_weight='balanced')\n",
    "svm_classifier.fit(train_x, y_train)"
   ]
  },
  {
   "cell_type": "code",
   "execution_count": 16,
   "id": "caba5128-454f-4638-8e1c-255fff398346",
   "metadata": {},
   "outputs": [],
   "source": [
    "y_pred_svm = svm_classifier.predict(test_x)"
   ]
  },
  {
   "cell_type": "code",
   "execution_count": 27,
   "id": "2a247cd6-c0ae-42bd-8dce-8da910445150",
   "metadata": {},
   "outputs": [
    {
     "name": "stdout",
     "output_type": "stream",
     "text": [
      "              precision    recall  f1-score   support\n",
      "\n",
      "       False    0.92765   0.98972   0.95768     20716\n",
      "        True    0.98456   0.89466   0.93746     15179\n",
      "\n",
      "    accuracy                        0.94952     35895\n",
      "   macro avg    0.95611   0.94219   0.94757     35895\n",
      "weighted avg    0.95172   0.94952   0.94913     35895\n",
      "\n"
     ]
    }
   ],
   "source": [
    "# the preliminary SVM, 2-4 ngrams, linear kernal\n",
    "print(classification_report(y_test, y_pred_svm, digits=5)) "
   ]
  },
  {
   "cell_type": "code",
   "execution_count": null,
   "id": "0c4a5638-32b7-4204-9d71-359a8b6a5f7e",
   "metadata": {},
   "outputs": [],
   "source": [
    "# here, I unfortunately lost a couple of models due to my computer crashing. I tested various ngrams with linear kernels (due\n",
    "# to time complexity and processing power constraints) and determined that 1-3 ngrams was right for this project. I was \n",
    "# hesitant include unigrams at first as I thought it might just add noise to the data, but I think it helps capture the \n",
    "# pattern of AI text generators to overuse very common words such as 'the'. "
   ]
  },
  {
   "cell_type": "code",
   "execution_count": 18,
   "id": "f4439916-6279-4caf-a6b1-4288b747e18c",
   "metadata": {},
   "outputs": [
    {
     "data": {
      "text/html": [
       "<style>#sk-container-id-3 {color: black;background-color: white;}#sk-container-id-3 pre{padding: 0;}#sk-container-id-3 div.sk-toggleable {background-color: white;}#sk-container-id-3 label.sk-toggleable__label {cursor: pointer;display: block;width: 100%;margin-bottom: 0;padding: 0.3em;box-sizing: border-box;text-align: center;}#sk-container-id-3 label.sk-toggleable__label-arrow:before {content: \"▸\";float: left;margin-right: 0.25em;color: #696969;}#sk-container-id-3 label.sk-toggleable__label-arrow:hover:before {color: black;}#sk-container-id-3 div.sk-estimator:hover label.sk-toggleable__label-arrow:before {color: black;}#sk-container-id-3 div.sk-toggleable__content {max-height: 0;max-width: 0;overflow: hidden;text-align: left;background-color: #f0f8ff;}#sk-container-id-3 div.sk-toggleable__content pre {margin: 0.2em;color: black;border-radius: 0.25em;background-color: #f0f8ff;}#sk-container-id-3 input.sk-toggleable__control:checked~div.sk-toggleable__content {max-height: 200px;max-width: 100%;overflow: auto;}#sk-container-id-3 input.sk-toggleable__control:checked~label.sk-toggleable__label-arrow:before {content: \"▾\";}#sk-container-id-3 div.sk-estimator input.sk-toggleable__control:checked~label.sk-toggleable__label {background-color: #d4ebff;}#sk-container-id-3 div.sk-label input.sk-toggleable__control:checked~label.sk-toggleable__label {background-color: #d4ebff;}#sk-container-id-3 input.sk-hidden--visually {border: 0;clip: rect(1px 1px 1px 1px);clip: rect(1px, 1px, 1px, 1px);height: 1px;margin: -1px;overflow: hidden;padding: 0;position: absolute;width: 1px;}#sk-container-id-3 div.sk-estimator {font-family: monospace;background-color: #f0f8ff;border: 1px dotted black;border-radius: 0.25em;box-sizing: border-box;margin-bottom: 0.5em;}#sk-container-id-3 div.sk-estimator:hover {background-color: #d4ebff;}#sk-container-id-3 div.sk-parallel-item::after {content: \"\";width: 100%;border-bottom: 1px solid gray;flex-grow: 1;}#sk-container-id-3 div.sk-label:hover label.sk-toggleable__label {background-color: #d4ebff;}#sk-container-id-3 div.sk-serial::before {content: \"\";position: absolute;border-left: 1px solid gray;box-sizing: border-box;top: 0;bottom: 0;left: 50%;z-index: 0;}#sk-container-id-3 div.sk-serial {display: flex;flex-direction: column;align-items: center;background-color: white;padding-right: 0.2em;padding-left: 0.2em;position: relative;}#sk-container-id-3 div.sk-item {position: relative;z-index: 1;}#sk-container-id-3 div.sk-parallel {display: flex;align-items: stretch;justify-content: center;background-color: white;position: relative;}#sk-container-id-3 div.sk-item::before, #sk-container-id-3 div.sk-parallel-item::before {content: \"\";position: absolute;border-left: 1px solid gray;box-sizing: border-box;top: 0;bottom: 0;left: 50%;z-index: -1;}#sk-container-id-3 div.sk-parallel-item {display: flex;flex-direction: column;z-index: 1;position: relative;background-color: white;}#sk-container-id-3 div.sk-parallel-item:first-child::after {align-self: flex-end;width: 50%;}#sk-container-id-3 div.sk-parallel-item:last-child::after {align-self: flex-start;width: 50%;}#sk-container-id-3 div.sk-parallel-item:only-child::after {width: 0;}#sk-container-id-3 div.sk-dashed-wrapped {border: 1px dashed gray;margin: 0 0.4em 0.5em 0.4em;box-sizing: border-box;padding-bottom: 0.4em;background-color: white;}#sk-container-id-3 div.sk-label label {font-family: monospace;font-weight: bold;display: inline-block;line-height: 1.2em;}#sk-container-id-3 div.sk-label-container {text-align: center;}#sk-container-id-3 div.sk-container {/* jupyter's `normalize.less` sets `[hidden] { display: none; }` but bootstrap.min.css set `[hidden] { display: none !important; }` so we also need the `!important` here to be able to override the default hidden behavior on the sphinx rendered scikit-learn.org. See: https://github.com/scikit-learn/scikit-learn/issues/21755 */display: inline-block !important;position: relative;}#sk-container-id-3 div.sk-text-repr-fallback {display: none;}</style><div id=\"sk-container-id-3\" class=\"sk-top-container\"><div class=\"sk-text-repr-fallback\"><pre>SVC(class_weight=&#x27;balanced&#x27;)</pre><b>In a Jupyter environment, please rerun this cell to show the HTML representation or trust the notebook. <br />On GitHub, the HTML representation is unable to render, please try loading this page with nbviewer.org.</b></div><div class=\"sk-container\" hidden><div class=\"sk-item\"><div class=\"sk-estimator sk-toggleable\"><input class=\"sk-toggleable__control sk-hidden--visually\" id=\"sk-estimator-id-6\" type=\"checkbox\" checked><label for=\"sk-estimator-id-6\" class=\"sk-toggleable__label sk-toggleable__label-arrow\">SVC</label><div class=\"sk-toggleable__content\"><pre>SVC(class_weight=&#x27;balanced&#x27;)</pre></div></div></div></div></div>"
      ],
      "text/plain": [
       "SVC(class_weight='balanced')"
      ]
     },
     "execution_count": 18,
     "metadata": {},
     "output_type": "execute_result"
    }
   ],
   "source": [
    "# 1-3 ngrams, RBF kernel\n",
    "svm_classifier2 = SVC(kernel='rbf', class_weight='balanced')\n",
    "svm_classifier2.fit(train_x, y_train)"
   ]
  },
  {
   "cell_type": "code",
   "execution_count": 19,
   "id": "253d8a14-1471-4530-9e4d-feb378b8009b",
   "metadata": {},
   "outputs": [],
   "source": [
    "y_pred_svm2 = svm_classifier2.predict(test_x)"
   ]
  },
  {
   "cell_type": "code",
   "execution_count": 28,
   "id": "837924e3-1a92-4dc5-9747-44fc69a0e559",
   "metadata": {},
   "outputs": [
    {
     "name": "stdout",
     "output_type": "stream",
     "text": [
      "              precision    recall  f1-score   support\n",
      "\n",
      "       False    0.87348   0.99010   0.92814     20716\n",
      "        True    0.98349   0.80427   0.88489     15179\n",
      "\n",
      "    accuracy                        0.91152     35895\n",
      "   macro avg    0.92848   0.89719   0.90652     35895\n",
      "weighted avg    0.92000   0.91152   0.90985     35895\n",
      "\n"
     ]
    }
   ],
   "source": [
    "print(classification_report(y_test, y_pred_svm2, digits=5)) "
   ]
  },
  {
   "cell_type": "code",
   "execution_count": 21,
   "id": "c7dd3e29-0c10-45b7-b8d7-8df11146f542",
   "metadata": {},
   "outputs": [
    {
     "data": {
      "text/html": [
       "<style>#sk-container-id-1 {color: black;background-color: white;}#sk-container-id-1 pre{padding: 0;}#sk-container-id-1 div.sk-toggleable {background-color: white;}#sk-container-id-1 label.sk-toggleable__label {cursor: pointer;display: block;width: 100%;margin-bottom: 0;padding: 0.3em;box-sizing: border-box;text-align: center;}#sk-container-id-1 label.sk-toggleable__label-arrow:before {content: \"▸\";float: left;margin-right: 0.25em;color: #696969;}#sk-container-id-1 label.sk-toggleable__label-arrow:hover:before {color: black;}#sk-container-id-1 div.sk-estimator:hover label.sk-toggleable__label-arrow:before {color: black;}#sk-container-id-1 div.sk-toggleable__content {max-height: 0;max-width: 0;overflow: hidden;text-align: left;background-color: #f0f8ff;}#sk-container-id-1 div.sk-toggleable__content pre {margin: 0.2em;color: black;border-radius: 0.25em;background-color: #f0f8ff;}#sk-container-id-1 input.sk-toggleable__control:checked~div.sk-toggleable__content {max-height: 200px;max-width: 100%;overflow: auto;}#sk-container-id-1 input.sk-toggleable__control:checked~label.sk-toggleable__label-arrow:before {content: \"▾\";}#sk-container-id-1 div.sk-estimator input.sk-toggleable__control:checked~label.sk-toggleable__label {background-color: #d4ebff;}#sk-container-id-1 div.sk-label input.sk-toggleable__control:checked~label.sk-toggleable__label {background-color: #d4ebff;}#sk-container-id-1 input.sk-hidden--visually {border: 0;clip: rect(1px 1px 1px 1px);clip: rect(1px, 1px, 1px, 1px);height: 1px;margin: -1px;overflow: hidden;padding: 0;position: absolute;width: 1px;}#sk-container-id-1 div.sk-estimator {font-family: monospace;background-color: #f0f8ff;border: 1px dotted black;border-radius: 0.25em;box-sizing: border-box;margin-bottom: 0.5em;}#sk-container-id-1 div.sk-estimator:hover {background-color: #d4ebff;}#sk-container-id-1 div.sk-parallel-item::after {content: \"\";width: 100%;border-bottom: 1px solid gray;flex-grow: 1;}#sk-container-id-1 div.sk-label:hover label.sk-toggleable__label {background-color: #d4ebff;}#sk-container-id-1 div.sk-serial::before {content: \"\";position: absolute;border-left: 1px solid gray;box-sizing: border-box;top: 0;bottom: 0;left: 50%;z-index: 0;}#sk-container-id-1 div.sk-serial {display: flex;flex-direction: column;align-items: center;background-color: white;padding-right: 0.2em;padding-left: 0.2em;position: relative;}#sk-container-id-1 div.sk-item {position: relative;z-index: 1;}#sk-container-id-1 div.sk-parallel {display: flex;align-items: stretch;justify-content: center;background-color: white;position: relative;}#sk-container-id-1 div.sk-item::before, #sk-container-id-1 div.sk-parallel-item::before {content: \"\";position: absolute;border-left: 1px solid gray;box-sizing: border-box;top: 0;bottom: 0;left: 50%;z-index: -1;}#sk-container-id-1 div.sk-parallel-item {display: flex;flex-direction: column;z-index: 1;position: relative;background-color: white;}#sk-container-id-1 div.sk-parallel-item:first-child::after {align-self: flex-end;width: 50%;}#sk-container-id-1 div.sk-parallel-item:last-child::after {align-self: flex-start;width: 50%;}#sk-container-id-1 div.sk-parallel-item:only-child::after {width: 0;}#sk-container-id-1 div.sk-dashed-wrapped {border: 1px dashed gray;margin: 0 0.4em 0.5em 0.4em;box-sizing: border-box;padding-bottom: 0.4em;background-color: white;}#sk-container-id-1 div.sk-label label {font-family: monospace;font-weight: bold;display: inline-block;line-height: 1.2em;}#sk-container-id-1 div.sk-label-container {text-align: center;}#sk-container-id-1 div.sk-container {/* jupyter's `normalize.less` sets `[hidden] { display: none; }` but bootstrap.min.css set `[hidden] { display: none !important; }` so we also need the `!important` here to be able to override the default hidden behavior on the sphinx rendered scikit-learn.org. See: https://github.com/scikit-learn/scikit-learn/issues/21755 */display: inline-block !important;position: relative;}#sk-container-id-1 div.sk-text-repr-fallback {display: none;}</style><div id=\"sk-container-id-1\" class=\"sk-top-container\"><div class=\"sk-text-repr-fallback\"><pre>SVC(class_weight={0: 2, 1: 1}, kernel=&#x27;sigmoid&#x27;)</pre><b>In a Jupyter environment, please rerun this cell to show the HTML representation or trust the notebook. <br />On GitHub, the HTML representation is unable to render, please try loading this page with nbviewer.org.</b></div><div class=\"sk-container\" hidden><div class=\"sk-item\"><div class=\"sk-estimator sk-toggleable\"><input class=\"sk-toggleable__control sk-hidden--visually\" id=\"sk-estimator-id-1\" type=\"checkbox\" checked><label for=\"sk-estimator-id-1\" class=\"sk-toggleable__label sk-toggleable__label-arrow\">SVC</label><div class=\"sk-toggleable__content\"><pre>SVC(class_weight={0: 2, 1: 1}, kernel=&#x27;sigmoid&#x27;)</pre></div></div></div></div></div>"
      ],
      "text/plain": [
       "SVC(class_weight={0: 2, 1: 1}, kernel='sigmoid')"
      ]
     },
     "execution_count": 21,
     "metadata": {},
     "output_type": "execute_result"
    }
   ],
   "source": [
    "# 1-3 ngrams, sigmoid kernel, different class weights to comabt unbalanced precision and recall scores.\n",
    "# however I do understand that my high precision score for detecting AI text is ideal here, as we really want to avoid \n",
    "# false positives (which only make up 1.3% of all 'True' classifications).\n",
    "svm_classifier3 = SVC(kernel='sigmoid', class_weight={0: 2, 1: 1})\n",
    "svm_classifier3.fit(train_x, y_train)"
   ]
  },
  {
   "cell_type": "code",
   "execution_count": 22,
   "id": "7d4453bf-8899-4c5d-b2d1-3862c294f7ec",
   "metadata": {},
   "outputs": [
    {
     "name": "stdout",
     "output_type": "stream",
     "text": [
      "start 20 : 21 : 42\n",
      "done 20 : 34 : 24\n"
     ]
    }
   ],
   "source": [
    "import time\n",
    "print(\"start\", time.localtime()[3], \":\", time.localtime()[4], \":\", time.localtime()[5])    \n",
    "y_pred_svm3 = svm_classifier3.predict(test_x)\n",
    "print(\"done\", time.localtime()[3], \":\", time.localtime()[4], \":\", time.localtime()[5])    "
   ]
  },
  {
   "cell_type": "code",
   "execution_count": 23,
   "id": "40bb5131-f69a-43fe-862b-03a91ae2e6c6",
   "metadata": {},
   "outputs": [
    {
     "name": "stdout",
     "output_type": "stream",
     "text": [
      "              precision    recall  f1-score   support\n",
      "\n",
      "       False    0.92377   0.99150   0.95644     20716\n",
      "        True    0.98712   0.88833   0.93512     15179\n",
      "\n",
      "    accuracy                        0.94788     35895\n",
      "   macro avg    0.95544   0.93992   0.94578     35895\n",
      "weighted avg    0.95056   0.94788   0.94742     35895\n",
      "\n"
     ]
    }
   ],
   "source": [
    "print(classification_report(y_test, y_pred_svm3, digits=5)) "
   ]
  },
  {
   "cell_type": "code",
   "execution_count": 24,
   "id": "6c51fd7f-e695-414f-8496-b3c65bad0eb9",
   "metadata": {},
   "outputs": [
    {
     "data": {
      "text/html": [
       "<style>#sk-container-id-2 {color: black;background-color: white;}#sk-container-id-2 pre{padding: 0;}#sk-container-id-2 div.sk-toggleable {background-color: white;}#sk-container-id-2 label.sk-toggleable__label {cursor: pointer;display: block;width: 100%;margin-bottom: 0;padding: 0.3em;box-sizing: border-box;text-align: center;}#sk-container-id-2 label.sk-toggleable__label-arrow:before {content: \"▸\";float: left;margin-right: 0.25em;color: #696969;}#sk-container-id-2 label.sk-toggleable__label-arrow:hover:before {color: black;}#sk-container-id-2 div.sk-estimator:hover label.sk-toggleable__label-arrow:before {color: black;}#sk-container-id-2 div.sk-toggleable__content {max-height: 0;max-width: 0;overflow: hidden;text-align: left;background-color: #f0f8ff;}#sk-container-id-2 div.sk-toggleable__content pre {margin: 0.2em;color: black;border-radius: 0.25em;background-color: #f0f8ff;}#sk-container-id-2 input.sk-toggleable__control:checked~div.sk-toggleable__content {max-height: 200px;max-width: 100%;overflow: auto;}#sk-container-id-2 input.sk-toggleable__control:checked~label.sk-toggleable__label-arrow:before {content: \"▾\";}#sk-container-id-2 div.sk-estimator input.sk-toggleable__control:checked~label.sk-toggleable__label {background-color: #d4ebff;}#sk-container-id-2 div.sk-label input.sk-toggleable__control:checked~label.sk-toggleable__label {background-color: #d4ebff;}#sk-container-id-2 input.sk-hidden--visually {border: 0;clip: rect(1px 1px 1px 1px);clip: rect(1px, 1px, 1px, 1px);height: 1px;margin: -1px;overflow: hidden;padding: 0;position: absolute;width: 1px;}#sk-container-id-2 div.sk-estimator {font-family: monospace;background-color: #f0f8ff;border: 1px dotted black;border-radius: 0.25em;box-sizing: border-box;margin-bottom: 0.5em;}#sk-container-id-2 div.sk-estimator:hover {background-color: #d4ebff;}#sk-container-id-2 div.sk-parallel-item::after {content: \"\";width: 100%;border-bottom: 1px solid gray;flex-grow: 1;}#sk-container-id-2 div.sk-label:hover label.sk-toggleable__label {background-color: #d4ebff;}#sk-container-id-2 div.sk-serial::before {content: \"\";position: absolute;border-left: 1px solid gray;box-sizing: border-box;top: 0;bottom: 0;left: 50%;z-index: 0;}#sk-container-id-2 div.sk-serial {display: flex;flex-direction: column;align-items: center;background-color: white;padding-right: 0.2em;padding-left: 0.2em;position: relative;}#sk-container-id-2 div.sk-item {position: relative;z-index: 1;}#sk-container-id-2 div.sk-parallel {display: flex;align-items: stretch;justify-content: center;background-color: white;position: relative;}#sk-container-id-2 div.sk-item::before, #sk-container-id-2 div.sk-parallel-item::before {content: \"\";position: absolute;border-left: 1px solid gray;box-sizing: border-box;top: 0;bottom: 0;left: 50%;z-index: -1;}#sk-container-id-2 div.sk-parallel-item {display: flex;flex-direction: column;z-index: 1;position: relative;background-color: white;}#sk-container-id-2 div.sk-parallel-item:first-child::after {align-self: flex-end;width: 50%;}#sk-container-id-2 div.sk-parallel-item:last-child::after {align-self: flex-start;width: 50%;}#sk-container-id-2 div.sk-parallel-item:only-child::after {width: 0;}#sk-container-id-2 div.sk-dashed-wrapped {border: 1px dashed gray;margin: 0 0.4em 0.5em 0.4em;box-sizing: border-box;padding-bottom: 0.4em;background-color: white;}#sk-container-id-2 div.sk-label label {font-family: monospace;font-weight: bold;display: inline-block;line-height: 1.2em;}#sk-container-id-2 div.sk-label-container {text-align: center;}#sk-container-id-2 div.sk-container {/* jupyter's `normalize.less` sets `[hidden] { display: none; }` but bootstrap.min.css set `[hidden] { display: none !important; }` so we also need the `!important` here to be able to override the default hidden behavior on the sphinx rendered scikit-learn.org. See: https://github.com/scikit-learn/scikit-learn/issues/21755 */display: inline-block !important;position: relative;}#sk-container-id-2 div.sk-text-repr-fallback {display: none;}</style><div id=\"sk-container-id-2\" class=\"sk-top-container\"><div class=\"sk-text-repr-fallback\"><pre>SVC(class_weight={0: 5, 1: 1}, kernel=&#x27;sigmoid&#x27;)</pre><b>In a Jupyter environment, please rerun this cell to show the HTML representation or trust the notebook. <br />On GitHub, the HTML representation is unable to render, please try loading this page with nbviewer.org.</b></div><div class=\"sk-container\" hidden><div class=\"sk-item\"><div class=\"sk-estimator sk-toggleable\"><input class=\"sk-toggleable__control sk-hidden--visually\" id=\"sk-estimator-id-2\" type=\"checkbox\" checked><label for=\"sk-estimator-id-2\" class=\"sk-toggleable__label sk-toggleable__label-arrow\">SVC</label><div class=\"sk-toggleable__content\"><pre>SVC(class_weight={0: 5, 1: 1}, kernel=&#x27;sigmoid&#x27;)</pre></div></div></div></div></div>"
      ],
      "text/plain": [
       "SVC(class_weight={0: 5, 1: 1}, kernel='sigmoid')"
      ]
     },
     "execution_count": 24,
     "metadata": {},
     "output_type": "execute_result"
    }
   ],
   "source": [
    "# 1-3 ngrams, sigmoid kernel, different class weights\n",
    "svm_classifier3 = SVC(kernel='sigmoid', class_weight={0: 5, 1: 1})\n",
    "svm_classifier3.fit(train_x, y_train)"
   ]
  },
  {
   "cell_type": "code",
   "execution_count": 25,
   "id": "92a7bbff-6a06-427f-817a-51e8b73bd231",
   "metadata": {},
   "outputs": [
    {
     "name": "stdout",
     "output_type": "stream",
     "text": [
      "start 20 : 42 : 6\n",
      "done 20 : 55 : 19\n"
     ]
    }
   ],
   "source": [
    "print(\"start\", time.localtime()[3], \":\", time.localtime()[4], \":\", time.localtime()[5])    \n",
    "y_pred_svm3 = svm_classifier3.predict(test_x)\n",
    "print(\"done\", time.localtime()[3], \":\", time.localtime()[4], \":\", time.localtime()[5])    "
   ]
  },
  {
   "cell_type": "code",
   "execution_count": 26,
   "id": "124cc2b5-2f5e-44fe-8236-b45249cb4120",
   "metadata": {},
   "outputs": [
    {
     "name": "stdout",
     "output_type": "stream",
     "text": [
      "              precision    recall  f1-score   support\n",
      "\n",
      "       False    0.92381   0.99150   0.95646     20716\n",
      "        True    0.98712   0.88840   0.93516     15179\n",
      "\n",
      "    accuracy                        0.94790     35895\n",
      "   macro avg    0.95546   0.93995   0.94581     35895\n",
      "weighted avg    0.95058   0.94790   0.94745     35895\n",
      "\n"
     ]
    }
   ],
   "source": [
    "print(classification_report(y_test, y_pred_svm3, digits=5)) "
   ]
  },
  {
   "cell_type": "code",
   "execution_count": 15,
   "id": "8b890fc7-027c-4fdc-bbe8-a8ce7c07ca0b",
   "metadata": {},
   "outputs": [
    {
     "name": "stdout",
     "output_type": "stream",
     "text": [
      "start 17 : 30 : 14\n",
      "done 17 : 42 : 8\n"
     ]
    }
   ],
   "source": [
    "# 1-3 ngrams, polynomial kernel\n",
    "import time\n",
    "from sklearn.svm import SVC\n",
    "print(\"start\", time.localtime()[3], \":\", time.localtime()[4], \":\", time.localtime()[5])    \n",
    "svm_classifier4 = SVC(kernel='poly', class_weight='balanced')\n",
    "svm_classifier4.fit(train_x, y_train)\n",
    "print(\"done\", time.localtime()[3], \":\", time.localtime()[4], \":\", time.localtime()[5])    "
   ]
  },
  {
   "cell_type": "code",
   "execution_count": 16,
   "id": "60e5df5f-bd0a-4925-8e37-63bba54a96a1",
   "metadata": {},
   "outputs": [
    {
     "name": "stdout",
     "output_type": "stream",
     "text": [
      "start 17 : 44 : 33\n",
      "done 18 : 5 : 36\n"
     ]
    }
   ],
   "source": [
    "print(\"start\", time.localtime()[3], \":\", time.localtime()[4], \":\", time.localtime()[5])    \n",
    "y_pred_svm4 = svm_classifier4.predict(test_x)\n",
    "print(\"done\", time.localtime()[3], \":\", time.localtime()[4], \":\", time.localtime()[5])    "
   ]
  },
  {
   "cell_type": "code",
   "execution_count": 20,
   "id": "420e486a-1b06-4418-ad27-1b8f33c3c3d4",
   "metadata": {},
   "outputs": [
    {
     "name": "stdout",
     "output_type": "stream",
     "text": [
      "              precision    recall  f1-score   support\n",
      "\n",
      "       False    0.58530   0.99020   0.73572     20716\n",
      "        True    0.76061   0.04249   0.08049     15179\n",
      "\n",
      "    accuracy                        0.58944     35895\n",
      "   macro avg    0.67296   0.51635   0.40810     35895\n",
      "weighted avg    0.65943   0.58944   0.45864     35895\n",
      "\n"
     ]
    }
   ],
   "source": [
    "from sklearn.metrics import confusion_matrix, classification_report\n",
    "print(classification_report(y_test, y_pred_svm4, digits=5)) "
   ]
  },
  {
   "cell_type": "code",
   "execution_count": 11,
   "id": "43be9382-48c1-4bc5-aae0-afd10d09025b",
   "metadata": {},
   "outputs": [
    {
     "name": "stdout",
     "output_type": "stream",
     "text": [
      "start training 17 : 49 : 18\n",
      "start pred 18 : 34 : 44\n",
      "done 18 : 39 : 55\n"
     ]
    }
   ],
   "source": [
    "# sigmoid classifier, no IDF, 1-3 ngrams\n",
    "import time\n",
    "from sklearn.svm import SVC\n",
    "print(\"start training\", time.localtime()[3], \":\", time.localtime()[4], \":\", time.localtime()[5])    \n",
    "svm_classifier_NOIDF = SVC(kernel='rbf')\n",
    "svm_classifier_NOIDF.fit(train_x, y_train)\n",
    "print(\"start pred\", time.localtime()[3], \":\", time.localtime()[4], \":\", time.localtime()[5])    \n",
    "y_pred_svm_NOIDF = svm_classifier_NOIDF.predict(test_x)\n",
    "print(\"done\", time.localtime()[3], \":\", time.localtime()[4], \":\", time.localtime()[5])    "
   ]
  },
  {
   "cell_type": "code",
   "execution_count": 12,
   "id": "3b57a4cd-9280-49f7-8460-ced04a443a0c",
   "metadata": {},
   "outputs": [
    {
     "name": "stdout",
     "output_type": "stream",
     "text": [
      "              precision    recall  f1-score   support\n",
      "\n",
      "       False    0.94123   0.99614   0.96791      5177\n",
      "        True    0.99428   0.91520   0.95310      3797\n",
      "\n",
      "    accuracy                        0.96189      8974\n",
      "   macro avg    0.96775   0.95567   0.96050      8974\n",
      "weighted avg    0.96368   0.96189   0.96164      8974\n",
      "\n",
      "[[5157   20]\n",
      " [ 322 3475]]\n"
     ]
    }
   ],
   "source": [
    "from sklearn.metrics import confusion_matrix, classification_report\n",
    "print(classification_report(y_test, y_pred_svm_NOIDF, digits=5)) \n",
    "print(confusion_matrix(y_test, y_pred_svm_NOIDF))"
   ]
  },
  {
   "cell_type": "code",
   "execution_count": null,
   "id": "9b3c7b47-2098-4452-aed6-90a707e9b4dd",
   "metadata": {},
   "outputs": [
    {
     "name": "stdout",
     "output_type": "stream",
     "text": [
      "start training 14 : 23 : 30\n"
     ]
    }
   ],
   "source": [
    "# 1-3 ngrams, rbf kernel, TF-IDF\n",
    "print(\"start training\", time.localtime()[3], \":\", time.localtime()[4], \":\", time.localtime()[5])    \n",
    "svm_classifier_13IDF = SVC(C=0.5,kernel='rbf', class_weight='balanced')\n",
    "svm_classifier_13IDF.fit(train_x, y_train)\n",
    "print(\"start pred\", time.localtime()[3], \":\", time.localtime()[4], \":\", time.localtime()[5])    \n",
    "y_pred_svm_13IDF = svm_classifier_IDF.predict(test_x)\n",
    "print(\"done\", time.localtime()[3], \":\", time.localtime()[4], \":\", time.localtime()[5])    "
   ]
  },
  {
   "cell_type": "code",
   "execution_count": null,
   "id": "1d041295-7960-4a8e-aae5-faef0f37dfcd",
   "metadata": {},
   "outputs": [],
   "source": [
    "# I then impliment a Grid Search to determine optimal C-values for first a linear kernel, then later a Radial Basis Function kernel"
   ]
  },
  {
   "cell_type": "code",
   "execution_count": 13,
   "id": "55bfbd12-039a-48d0-83d4-651e3d810f62",
   "metadata": {},
   "outputs": [
    {
     "name": "stdout",
     "output_type": "stream",
     "text": [
      "start train 17 : 20 : 38\n",
      "done 1 : 48 : 48\n"
     ]
    },
    {
     "data": {
      "text/plain": [
       "['mean_fit_time',\n",
       " 'mean_score_time',\n",
       " 'mean_test_score',\n",
       " 'param_C',\n",
       " 'param_kernel',\n",
       " 'params',\n",
       " 'rank_test_score',\n",
       " 'split0_test_score',\n",
       " 'split1_test_score',\n",
       " 'split2_test_score',\n",
       " 'split3_test_score',\n",
       " 'split4_test_score',\n",
       " 'std_fit_time',\n",
       " 'std_score_time',\n",
       " 'std_test_score']"
      ]
     },
     "execution_count": 13,
     "metadata": {},
     "output_type": "execute_result"
    }
   ],
   "source": [
    "from sklearn.model_selection import GridSearchCV\n",
    "from sklearn.svm import SVC\n",
    "parameters = {'kernel':['linear'], 'C':[1, 5]}\n",
    "svc = SVC()\n",
    "clf = GridSearchCV(svc, parameters)\n",
    "print(\"start train\", time.localtime()[3], \":\", time.localtime()[4], \":\", time.localtime()[5])    \n",
    "clf.fit(train_x, y_train)\n",
    "print(\"done\", time.localtime()[3], \":\", time.localtime()[4], \":\", time.localtime()[5])    \n",
    "sorted(clf.cv_results_.keys() # <- oops wrong command\n"
   ]
  },
  {
   "cell_type": "code",
   "execution_count": 14,
   "id": "930d48d5-74b9-47ad-a589-073822a3ce9e",
   "metadata": {},
   "outputs": [
    {
     "data": {
      "text/plain": [
       "{'mean_fit_time': array([1773.84183464, 3199.13683333]),\n",
       " 'std_fit_time': array([  30.75722604, 1247.7753873 ]),\n",
       " 'mean_score_time': array([168.81297297, 307.29162416]),\n",
       " 'std_score_time': array([  7.59497107, 237.86231429]),\n",
       " 'param_C': masked_array(data=[1, 5],\n",
       "              mask=[False, False],\n",
       "        fill_value='?',\n",
       "             dtype=object),\n",
       " 'param_kernel': masked_array(data=['linear', 'linear'],\n",
       "              mask=[False, False],\n",
       "        fill_value='?',\n",
       "             dtype=object),\n",
       " 'params': [{'C': 1, 'kernel': 'linear'}, {'C': 5, 'kernel': 'linear'}],\n",
       " 'split0_test_score': array([0.96048135, 0.95097311]),\n",
       " 'split1_test_score': array([0.95988113, 0.94799406]),\n",
       " 'split2_test_score': array([0.96329866, 0.95497771]),\n",
       " 'split3_test_score': array([0.96612184, 0.95631501]),\n",
       " 'split4_test_score': array([0.96419019, 0.95349183]),\n",
       " 'mean_test_score': array([0.96279464, 0.95275034]),\n",
       " 'std_test_score': array([0.00232859, 0.00296643]),\n",
       " 'rank_test_score': array([1, 2], dtype=int32)}"
      ]
     },
     "execution_count": 14,
     "metadata": {},
     "output_type": "execute_result"
    }
   ],
   "source": [
    "clf.cv_results_"
   ]
  },
  {
   "cell_type": "code",
   "execution_count": 15,
   "id": "824bb219-e7b9-4d2f-9b86-a0fceb3bc27a",
   "metadata": {},
   "outputs": [
    {
     "data": {
      "text/html": [
       "<style>#sk-container-id-1 {color: black;background-color: white;}#sk-container-id-1 pre{padding: 0;}#sk-container-id-1 div.sk-toggleable {background-color: white;}#sk-container-id-1 label.sk-toggleable__label {cursor: pointer;display: block;width: 100%;margin-bottom: 0;padding: 0.3em;box-sizing: border-box;text-align: center;}#sk-container-id-1 label.sk-toggleable__label-arrow:before {content: \"▸\";float: left;margin-right: 0.25em;color: #696969;}#sk-container-id-1 label.sk-toggleable__label-arrow:hover:before {color: black;}#sk-container-id-1 div.sk-estimator:hover label.sk-toggleable__label-arrow:before {color: black;}#sk-container-id-1 div.sk-toggleable__content {max-height: 0;max-width: 0;overflow: hidden;text-align: left;background-color: #f0f8ff;}#sk-container-id-1 div.sk-toggleable__content pre {margin: 0.2em;color: black;border-radius: 0.25em;background-color: #f0f8ff;}#sk-container-id-1 input.sk-toggleable__control:checked~div.sk-toggleable__content {max-height: 200px;max-width: 100%;overflow: auto;}#sk-container-id-1 input.sk-toggleable__control:checked~label.sk-toggleable__label-arrow:before {content: \"▾\";}#sk-container-id-1 div.sk-estimator input.sk-toggleable__control:checked~label.sk-toggleable__label {background-color: #d4ebff;}#sk-container-id-1 div.sk-label input.sk-toggleable__control:checked~label.sk-toggleable__label {background-color: #d4ebff;}#sk-container-id-1 input.sk-hidden--visually {border: 0;clip: rect(1px 1px 1px 1px);clip: rect(1px, 1px, 1px, 1px);height: 1px;margin: -1px;overflow: hidden;padding: 0;position: absolute;width: 1px;}#sk-container-id-1 div.sk-estimator {font-family: monospace;background-color: #f0f8ff;border: 1px dotted black;border-radius: 0.25em;box-sizing: border-box;margin-bottom: 0.5em;}#sk-container-id-1 div.sk-estimator:hover {background-color: #d4ebff;}#sk-container-id-1 div.sk-parallel-item::after {content: \"\";width: 100%;border-bottom: 1px solid gray;flex-grow: 1;}#sk-container-id-1 div.sk-label:hover label.sk-toggleable__label {background-color: #d4ebff;}#sk-container-id-1 div.sk-serial::before {content: \"\";position: absolute;border-left: 1px solid gray;box-sizing: border-box;top: 0;bottom: 0;left: 50%;z-index: 0;}#sk-container-id-1 div.sk-serial {display: flex;flex-direction: column;align-items: center;background-color: white;padding-right: 0.2em;padding-left: 0.2em;position: relative;}#sk-container-id-1 div.sk-item {position: relative;z-index: 1;}#sk-container-id-1 div.sk-parallel {display: flex;align-items: stretch;justify-content: center;background-color: white;position: relative;}#sk-container-id-1 div.sk-item::before, #sk-container-id-1 div.sk-parallel-item::before {content: \"\";position: absolute;border-left: 1px solid gray;box-sizing: border-box;top: 0;bottom: 0;left: 50%;z-index: -1;}#sk-container-id-1 div.sk-parallel-item {display: flex;flex-direction: column;z-index: 1;position: relative;background-color: white;}#sk-container-id-1 div.sk-parallel-item:first-child::after {align-self: flex-end;width: 50%;}#sk-container-id-1 div.sk-parallel-item:last-child::after {align-self: flex-start;width: 50%;}#sk-container-id-1 div.sk-parallel-item:only-child::after {width: 0;}#sk-container-id-1 div.sk-dashed-wrapped {border: 1px dashed gray;margin: 0 0.4em 0.5em 0.4em;box-sizing: border-box;padding-bottom: 0.4em;background-color: white;}#sk-container-id-1 div.sk-label label {font-family: monospace;font-weight: bold;display: inline-block;line-height: 1.2em;}#sk-container-id-1 div.sk-label-container {text-align: center;}#sk-container-id-1 div.sk-container {/* jupyter's `normalize.less` sets `[hidden] { display: none; }` but bootstrap.min.css set `[hidden] { display: none !important; }` so we also need the `!important` here to be able to override the default hidden behavior on the sphinx rendered scikit-learn.org. See: https://github.com/scikit-learn/scikit-learn/issues/21755 */display: inline-block !important;position: relative;}#sk-container-id-1 div.sk-text-repr-fallback {display: none;}</style><div id=\"sk-container-id-1\" class=\"sk-top-container\"><div class=\"sk-text-repr-fallback\"><pre>SVC(C=1, kernel=&#x27;linear&#x27;)</pre><b>In a Jupyter environment, please rerun this cell to show the HTML representation or trust the notebook. <br />On GitHub, the HTML representation is unable to render, please try loading this page with nbviewer.org.</b></div><div class=\"sk-container\" hidden><div class=\"sk-item\"><div class=\"sk-estimator sk-toggleable\"><input class=\"sk-toggleable__control sk-hidden--visually\" id=\"sk-estimator-id-1\" type=\"checkbox\" checked><label for=\"sk-estimator-id-1\" class=\"sk-toggleable__label sk-toggleable__label-arrow\">SVC</label><div class=\"sk-toggleable__content\"><pre>SVC(C=1, kernel=&#x27;linear&#x27;)</pre></div></div></div></div></div>"
      ],
      "text/plain": [
       "SVC(C=1, kernel='linear')"
      ]
     },
     "execution_count": 15,
     "metadata": {},
     "output_type": "execute_result"
    }
   ],
   "source": [
    "clf.best_estimator_"
   ]
  },
  {
   "cell_type": "code",
   "execution_count": 16,
   "id": "e66ee7f5-a3dd-4191-bd41-934f7e6237b1",
   "metadata": {},
   "outputs": [
    {
     "data": {
      "text/plain": [
       "0.9627946365124836"
      ]
     },
     "execution_count": 16,
     "metadata": {},
     "output_type": "execute_result"
    }
   ],
   "source": [
    "clf.best_score_"
   ]
  },
  {
   "cell_type": "code",
   "execution_count": null,
   "id": "268a421f-16a1-484e-81d9-9cabb962e172",
   "metadata": {},
   "outputs": [],
   "source": [
    "# all C-values were relavatively similar in accuracy. there was no overarching correlation between C-value and accuracy,"
   ]
  },
  {
   "cell_type": "code",
   "execution_count": 13,
   "id": "5771ce8f-766a-4c6b-8dc3-ef0fbb295707",
   "metadata": {},
   "outputs": [
    {
     "name": "stdout",
     "output_type": "stream",
     "text": [
      "start train 1 : 37 : 24\n",
      "done 19 : 31 : 24\n"
     ]
    },
    {
     "data": {
      "text/plain": [
       "['mean_fit_time',\n",
       " 'mean_score_time',\n",
       " 'mean_test_score',\n",
       " 'param_C',\n",
       " 'param_kernel',\n",
       " 'params',\n",
       " 'rank_test_score',\n",
       " 'split0_test_score',\n",
       " 'split1_test_score',\n",
       " 'split2_test_score',\n",
       " 'split3_test_score',\n",
       " 'split4_test_score',\n",
       " 'std_fit_time',\n",
       " 'std_score_time',\n",
       " 'std_test_score']"
      ]
     },
     "execution_count": 13,
     "metadata": {},
     "output_type": "execute_result"
    }
   ],
   "source": [
    "from sklearn.model_selection import GridSearchCV\n",
    "from sklearn.svm import SVC\n",
    "parameters = {'kernel':['rbf'], 'C':[0.5,1,2]}\n",
    "svc = SVC()\n",
    "clf2 = GridSearchCV(svc, parameters)\n",
    "print(\"start train\", time.localtime()[3], \":\", time.localtime()[4], \":\", time.localtime()[5])    \n",
    "clf2.fit(train_x, y_train)\n",
    "print(\"done\", time.localtime()[3], \":\", time.localtime()[4], \":\", time.localtime()[5]) \n",
    "sorted(clf2.cv_results_)\n"
   ]
  },
  {
   "cell_type": "code",
   "execution_count": 14,
   "id": "82f53e31-9d41-4ecd-a3aa-e41181dbe2a0",
   "metadata": {},
   "outputs": [
    {
     "data": {
      "text/html": [
       "<style>#sk-container-id-1 {color: black;background-color: white;}#sk-container-id-1 pre{padding: 0;}#sk-container-id-1 div.sk-toggleable {background-color: white;}#sk-container-id-1 label.sk-toggleable__label {cursor: pointer;display: block;width: 100%;margin-bottom: 0;padding: 0.3em;box-sizing: border-box;text-align: center;}#sk-container-id-1 label.sk-toggleable__label-arrow:before {content: \"▸\";float: left;margin-right: 0.25em;color: #696969;}#sk-container-id-1 label.sk-toggleable__label-arrow:hover:before {color: black;}#sk-container-id-1 div.sk-estimator:hover label.sk-toggleable__label-arrow:before {color: black;}#sk-container-id-1 div.sk-toggleable__content {max-height: 0;max-width: 0;overflow: hidden;text-align: left;background-color: #f0f8ff;}#sk-container-id-1 div.sk-toggleable__content pre {margin: 0.2em;color: black;border-radius: 0.25em;background-color: #f0f8ff;}#sk-container-id-1 input.sk-toggleable__control:checked~div.sk-toggleable__content {max-height: 200px;max-width: 100%;overflow: auto;}#sk-container-id-1 input.sk-toggleable__control:checked~label.sk-toggleable__label-arrow:before {content: \"▾\";}#sk-container-id-1 div.sk-estimator input.sk-toggleable__control:checked~label.sk-toggleable__label {background-color: #d4ebff;}#sk-container-id-1 div.sk-label input.sk-toggleable__control:checked~label.sk-toggleable__label {background-color: #d4ebff;}#sk-container-id-1 input.sk-hidden--visually {border: 0;clip: rect(1px 1px 1px 1px);clip: rect(1px, 1px, 1px, 1px);height: 1px;margin: -1px;overflow: hidden;padding: 0;position: absolute;width: 1px;}#sk-container-id-1 div.sk-estimator {font-family: monospace;background-color: #f0f8ff;border: 1px dotted black;border-radius: 0.25em;box-sizing: border-box;margin-bottom: 0.5em;}#sk-container-id-1 div.sk-estimator:hover {background-color: #d4ebff;}#sk-container-id-1 div.sk-parallel-item::after {content: \"\";width: 100%;border-bottom: 1px solid gray;flex-grow: 1;}#sk-container-id-1 div.sk-label:hover label.sk-toggleable__label {background-color: #d4ebff;}#sk-container-id-1 div.sk-serial::before {content: \"\";position: absolute;border-left: 1px solid gray;box-sizing: border-box;top: 0;bottom: 0;left: 50%;z-index: 0;}#sk-container-id-1 div.sk-serial {display: flex;flex-direction: column;align-items: center;background-color: white;padding-right: 0.2em;padding-left: 0.2em;position: relative;}#sk-container-id-1 div.sk-item {position: relative;z-index: 1;}#sk-container-id-1 div.sk-parallel {display: flex;align-items: stretch;justify-content: center;background-color: white;position: relative;}#sk-container-id-1 div.sk-item::before, #sk-container-id-1 div.sk-parallel-item::before {content: \"\";position: absolute;border-left: 1px solid gray;box-sizing: border-box;top: 0;bottom: 0;left: 50%;z-index: -1;}#sk-container-id-1 div.sk-parallel-item {display: flex;flex-direction: column;z-index: 1;position: relative;background-color: white;}#sk-container-id-1 div.sk-parallel-item:first-child::after {align-self: flex-end;width: 50%;}#sk-container-id-1 div.sk-parallel-item:last-child::after {align-self: flex-start;width: 50%;}#sk-container-id-1 div.sk-parallel-item:only-child::after {width: 0;}#sk-container-id-1 div.sk-dashed-wrapped {border: 1px dashed gray;margin: 0 0.4em 0.5em 0.4em;box-sizing: border-box;padding-bottom: 0.4em;background-color: white;}#sk-container-id-1 div.sk-label label {font-family: monospace;font-weight: bold;display: inline-block;line-height: 1.2em;}#sk-container-id-1 div.sk-label-container {text-align: center;}#sk-container-id-1 div.sk-container {/* jupyter's `normalize.less` sets `[hidden] { display: none; }` but bootstrap.min.css set `[hidden] { display: none !important; }` so we also need the `!important` here to be able to override the default hidden behavior on the sphinx rendered scikit-learn.org. See: https://github.com/scikit-learn/scikit-learn/issues/21755 */display: inline-block !important;position: relative;}#sk-container-id-1 div.sk-text-repr-fallback {display: none;}</style><div id=\"sk-container-id-1\" class=\"sk-top-container\"><div class=\"sk-text-repr-fallback\"><pre>SVC(C=0.5)</pre><b>In a Jupyter environment, please rerun this cell to show the HTML representation or trust the notebook. <br />On GitHub, the HTML representation is unable to render, please try loading this page with nbviewer.org.</b></div><div class=\"sk-container\" hidden><div class=\"sk-item\"><div class=\"sk-estimator sk-toggleable\"><input class=\"sk-toggleable__control sk-hidden--visually\" id=\"sk-estimator-id-1\" type=\"checkbox\" checked><label for=\"sk-estimator-id-1\" class=\"sk-toggleable__label sk-toggleable__label-arrow\">SVC</label><div class=\"sk-toggleable__content\"><pre>SVC(C=0.5)</pre></div></div></div></div></div>"
      ],
      "text/plain": [
       "SVC(C=0.5)"
      ]
     },
     "execution_count": 14,
     "metadata": {},
     "output_type": "execute_result"
    }
   ],
   "source": [
    "clf2.best_estimator_"
   ]
  },
  {
   "cell_type": "code",
   "execution_count": 15,
   "id": "42875d33-637f-43e9-8978-b50dbe7cdfd9",
   "metadata": {},
   "outputs": [
    {
     "data": {
      "text/plain": [
       "0.9636564228008044"
      ]
     },
     "execution_count": 15,
     "metadata": {},
     "output_type": "execute_result"
    }
   ],
   "source": [
    "clf2.best_score_"
   ]
  },
  {
   "cell_type": "code",
   "execution_count": null,
   "id": "b8b0c95a-e64c-4fa9-bfb6-bcf46e487be0",
   "metadata": {},
   "outputs": [],
   "source": [
    "# tried one final RBF model with 1-5 ngrams. this turned out to be significantly less accurate than my peak 0.964 accuracy, \n",
    "# which I am satisfied with. "
   ]
  },
  {
   "cell_type": "code",
   "execution_count": 27,
   "id": "9021fd88-e189-4fc2-aabf-96646ed95491",
   "metadata": {},
   "outputs": [
    {
     "name": "stdout",
     "output_type": "stream",
     "text": [
      "start vectorization 22 : 16 : 55\n",
      "start training 22 : 19 : 56\n",
      "start pred 0 : 20 : 38\n",
      "done 0 : 34 : 37\n"
     ]
    }
   ],
   "source": [
    "from sklearn.svm import SVC\n",
    "import time\n",
    "\n",
    "print(\"start vectorization\", time.localtime()[3], \":\", time.localtime()[4], \":\", time.localtime()[5])    \n",
    "vectorizer = TfidfVectorizer(ngram_range=(1, 5),tokenizer=lambda x: re.findall(r'[^\\W]+', x),token_pattern=None,strip_accents='unicode')\n",
    "vectorizer = vectorizer.fit(X_test)\n",
    "test_x = vectorizer.fit_transform(X_test)\n",
    "train_x = vectorizer.transform(X_train)\n",
    "\n",
    "print(\"start training\", time.localtime()[3], \":\", time.localtime()[4], \":\", time.localtime()[5])    \n",
    "svm_classifier_final = SVC(C=0.5,kernel='rbf', class_weight='balanced')\n",
    "svm_classifier_final.fit(train_x, y_train)\n",
    "\n",
    "print(\"start pred\", time.localtime()[3], \":\", time.localtime()[4], \":\", time.localtime()[5])    \n",
    "y_pred_svm_final = svm_classifier_final.predict(test_x)\n",
    "\n",
    "print(\"done\", time.localtime()[3], \":\", time.localtime()[4], \":\", time.localtime()[5])    "
   ]
  },
  {
   "cell_type": "code",
   "execution_count": 28,
   "id": "f540fa57-567e-4497-9276-14db65aa3f6d",
   "metadata": {},
   "outputs": [
    {
     "name": "stdout",
     "output_type": "stream",
     "text": [
      "              precision    recall  f1-score   support\n",
      "\n",
      "       False    0.94508   0.95101   0.94804      6532\n",
      "        True    0.93109   0.92295   0.92700      4685\n",
      "\n",
      "    accuracy                        0.93929     11217\n",
      "   macro avg    0.93809   0.93698   0.93752     11217\n",
      "weighted avg    0.93924   0.93929   0.93925     11217\n",
      "\n"
     ]
    }
   ],
   "source": [
    "from sklearn.metrics import classification_report\n",
    "print(classification_report(y_test, y_pred_svm_final, digits=5)) "
   ]
  },
  {
   "cell_type": "code",
   "execution_count": null,
   "id": "cad39102-3d45-4f81-b6aa-ac1e760891fc",
   "metadata": {},
   "outputs": [],
   "source": [
    "# the rest of this document is a few random models "
   ]
  },
  {
   "cell_type": "code",
   "execution_count": 122,
   "id": "c41623ea-720a-4ac5-9009-ab0b21e10011",
   "metadata": {},
   "outputs": [],
   "source": [
    "# count punctuation - unused feature augmentation. i have read about the trend of AI-generated text to use more \n",
    "# punctuation than a human would usually use and considered adding that to the model. \n",
    "def count_puncts(x):\n",
    "  # sub. punct. with '' and returns the new string with the no. of replacements.\n",
    "  new_str, count = re.subn(r'\\W', '', x)\n",
    "  return count\n",
    "\n",
    "dataset['punCount'] = dataset['text'].apply(count_puncts)"
   ]
  },
  {
   "cell_type": "code",
   "execution_count": 123,
   "id": "bc29b9cf-09f1-4571-9a82-f139a4d50298",
   "metadata": {},
   "outputs": [
    {
     "data": {
      "text/html": [
       "<div>\n",
       "<style scoped>\n",
       "    .dataframe tbody tr th:only-of-type {\n",
       "        vertical-align: middle;\n",
       "    }\n",
       "\n",
       "    .dataframe tbody tr th {\n",
       "        vertical-align: top;\n",
       "    }\n",
       "\n",
       "    .dataframe thead th {\n",
       "        text-align: right;\n",
       "    }\n",
       "</style>\n",
       "<table border=\"1\" class=\"dataframe\">\n",
       "  <thead>\n",
       "    <tr style=\"text-align: right;\">\n",
       "      <th></th>\n",
       "      <th>text</th>\n",
       "      <th>label</th>\n",
       "      <th>prompt_name</th>\n",
       "      <th>source</th>\n",
       "      <th>RDizzl3_seven</th>\n",
       "      <th>punCount</th>\n",
       "    </tr>\n",
       "  </thead>\n",
       "  <tbody>\n",
       "    <tr>\n",
       "      <th>0</th>\n",
       "      <td>Phones\\n\\nModern humans today are always on th...</td>\n",
       "      <td>0</td>\n",
       "      <td>Phones and driving</td>\n",
       "      <td>persuade_corpus</td>\n",
       "      <td>False</td>\n",
       "      <td>387</td>\n",
       "    </tr>\n",
       "    <tr>\n",
       "      <th>1</th>\n",
       "      <td>This essay will explain if drivers should or s...</td>\n",
       "      <td>0</td>\n",
       "      <td>Phones and driving</td>\n",
       "      <td>persuade_corpus</td>\n",
       "      <td>False</td>\n",
       "      <td>439</td>\n",
       "    </tr>\n",
       "    <tr>\n",
       "      <th>2</th>\n",
       "      <td>Driving while the use of cellular devices\\n\\nT...</td>\n",
       "      <td>0</td>\n",
       "      <td>Phones and driving</td>\n",
       "      <td>persuade_corpus</td>\n",
       "      <td>False</td>\n",
       "      <td>182</td>\n",
       "    </tr>\n",
       "    <tr>\n",
       "      <th>3</th>\n",
       "      <td>Phones  Driving\\n\\nDrivers should not be able ...</td>\n",
       "      <td>0</td>\n",
       "      <td>Phones and driving</td>\n",
       "      <td>persuade_corpus</td>\n",
       "      <td>False</td>\n",
       "      <td>228</td>\n",
       "    </tr>\n",
       "    <tr>\n",
       "      <th>4</th>\n",
       "      <td>Cell Phone Operation While Driving\\n\\nThe abil...</td>\n",
       "      <td>0</td>\n",
       "      <td>Phones and driving</td>\n",
       "      <td>persuade_corpus</td>\n",
       "      <td>False</td>\n",
       "      <td>341</td>\n",
       "    </tr>\n",
       "  </tbody>\n",
       "</table>\n",
       "</div>"
      ],
      "text/plain": [
       "                                                text  label  \\\n",
       "0  Phones\\n\\nModern humans today are always on th...      0   \n",
       "1  This essay will explain if drivers should or s...      0   \n",
       "2  Driving while the use of cellular devices\\n\\nT...      0   \n",
       "3  Phones  Driving\\n\\nDrivers should not be able ...      0   \n",
       "4  Cell Phone Operation While Driving\\n\\nThe abil...      0   \n",
       "\n",
       "          prompt_name           source  RDizzl3_seven  punCount  \n",
       "0  Phones and driving  persuade_corpus          False       387  \n",
       "1  Phones and driving  persuade_corpus          False       439  \n",
       "2  Phones and driving  persuade_corpus          False       182  \n",
       "3  Phones and driving  persuade_corpus          False       228  \n",
       "4  Phones and driving  persuade_corpus          False       341  "
      ]
     },
     "execution_count": 123,
     "metadata": {},
     "output_type": "execute_result"
    }
   ],
   "source": [
    "dataset.head()"
   ]
  },
  {
   "cell_type": "code",
   "execution_count": 59,
   "id": "ed90be68-a729-442a-ae77-eb07efe0d3dc",
   "metadata": {},
   "outputs": [
    {
     "data": {
      "text/plain": [
       "<bound method NDFrame._add_numeric_operations.<locals>.mean of 25996    258\n",
       "25997    335\n",
       "25998    184\n",
       "25999    288\n",
       "26000    266\n",
       "        ... \n",
       "44863    391\n",
       "44864    360\n",
       "44865    281\n",
       "44866    260\n",
       "44867    409\n",
       "Name: punCount, Length: 17497, dtype: int64>"
      ]
     },
     "execution_count": 59,
     "metadata": {},
     "output_type": "execute_result"
    }
   ],
   "source": [
    "dataset[dataset[\"label\"] == 1][\"punCount\"].mean"
   ]
  },
  {
   "cell_type": "code",
   "execution_count": 193,
   "id": "40304a74-d6de-4295-af48-463bebedcb56",
   "metadata": {},
   "outputs": [
    {
     "name": "stdout",
     "output_type": "stream",
     "text": [
      "start 18 : 20 : 28\n",
      "split created 18 : 20 : 28\n",
      "vectorization done 18 : 22 : 32\n",
      "model trained 19 : 42 : 46\n",
      "classification done 19 : 50 : 44\n",
      "              precision    recall  f1-score   support\n",
      "\n",
      "       False       0.94      0.96      0.95      6532\n",
      "        True       0.94      0.92      0.93      4685\n",
      "\n",
      "    accuracy                           0.94     11217\n",
      "   macro avg       0.94      0.94      0.94     11217\n",
      "weighted avg       0.94      0.94      0.94     11217\n",
      "\n"
     ]
    }
   ],
   "source": [
    "# 3-5 ngrams, linear kernel, TF-IDF\n",
    "\n",
    "print(\"start\", time.localtime()[3], \":\", time.localtime()[4], \":\", time.localtime()[5])    \n",
    "\n",
    "X = dataset[\"text\"]\n",
    "y = dataset[\"source\"]\n",
    "y = (y != 'persuade_corpus')\n",
    "\n",
    "from sklearn.model_selection import train_test_split \n",
    "X_train, X_test, y_train, y_test = train_test_split(X, y, train_size=0.75, random_state=100)\n",
    "\n",
    "print(\"split created\", time.localtime()[3], \":\", time.localtime()[4], \":\", time.localtime()[5])    \n",
    "\n",
    "\n",
    "vectorizer = TfidfVectorizer(ngram_range=(3, 5),tokenizer=lambda x: re.findall(r'[^\\W]+', x),token_pattern=None,strip_accents='unicode',)\n",
    "vectorizer = vectorizer.fit(X_test)\n",
    "test_x = vectorizer.fit_transform(X_test)\n",
    "train_x = vectorizer.transform(X_train)\n",
    "\n",
    "print(\"vectorization done\", time.localtime()[3], \":\", time.localtime()[4], \":\", time.localtime()[5])    \n",
    "\n",
    "\n",
    "svm_classifier = SVC(kernel='linear', class_weight='balanced')\n",
    "svm_classifier.fit(train_x, y_train)\n",
    "\n",
    "print(\"model trained\", time.localtime()[3], \":\", time.localtime()[4], \":\", time.localtime()[5])    \n",
    "\n",
    "\n",
    "y_pred_svm = svm_classifier.predict(test_x)\n",
    "\n",
    "print(\"classification done\", time.localtime()[3], \":\", time.localtime()[4], \":\", time.localtime()[5])    \n",
    "\n",
    "\n",
    "print(classification_report(y_test, y_pred_svm)) \n",
    "\n"
   ]
  },
  {
   "cell_type": "code",
   "execution_count": 194,
   "id": "2ef79fb3-af5d-4efc-b01e-1f945b9f57f8",
   "metadata": {},
   "outputs": [
    {
     "name": "stdout",
     "output_type": "stream",
     "text": [
      "start 2 : 40 : 58\n",
      "model trained 2 : 41 : 5\n",
      "classification done 2 : 41 : 7\n",
      "              precision    recall  f1-score   support\n",
      "\n",
      "       False       0.89      0.98      0.93      6532\n",
      "        True       0.97      0.83      0.90      4685\n",
      "\n",
      "    accuracy                           0.92     11217\n",
      "   macro avg       0.93      0.91      0.92     11217\n",
      "weighted avg       0.92      0.92      0.92     11217\n",
      "\n"
     ]
    }
   ],
   "source": [
    "# 3-5 ngrams, CountVectorizer/TfidfTransformer/MultinomialNB model\n",
    "\n",
    "print(\"start\", time.localtime()[3], \":\", time.localtime()[4], \":\", time.localtime()[5])    \n",
    "\n",
    "text_clf = Pipeline([\n",
    "        ('vect', CountVectorizer()),\n",
    "        ('tfidf', TfidfTransformer()),\n",
    "        ('clf', MultinomialNB()),\n",
    "])\n",
    "\n",
    "text_clf.fit(X_train,y_train)\n",
    "\n",
    "print(\"model trained\", time.localtime()[3], \":\", time.localtime()[4], \":\", time.localtime()[5])    \n",
    "\n",
    "\n",
    "y_pred = text_clf.predict(X_test)\n",
    "\n",
    "print(\"classification done\", time.localtime()[3], \":\", time.localtime()[4], \":\", time.localtime()[5])    \n",
    "\n",
    "print(classification_report(y_test, y_pred))"
   ]
  }
 ],
 "metadata": {
  "kernelspec": {
   "display_name": "Python 3 (ipykernel)",
   "language": "python",
   "name": "python3"
  },
  "language_info": {
   "codemirror_mode": {
    "name": "ipython",
    "version": 3
   },
   "file_extension": ".py",
   "mimetype": "text/x-python",
   "name": "python",
   "nbconvert_exporter": "python",
   "pygments_lexer": "ipython3",
   "version": "3.9.7"
  }
 },
 "nbformat": 4,
 "nbformat_minor": 5
}
